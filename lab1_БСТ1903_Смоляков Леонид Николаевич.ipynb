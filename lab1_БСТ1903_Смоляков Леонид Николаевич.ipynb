{
 "cells": [
  {
   "cell_type": "markdown",
   "id": "least-armenia",
   "metadata": {},
   "source": [
    "# Лабораторная работа №1\n",
    "## Выполнил студент группы БСТ1903 Смоляков Леонид Николаевич\n",
    "### Задание №1\n",
    "Описание условия задания"
   ]
  },
  {
   "cell_type": "code",
   "execution_count": 2,
   "id": "organizational-phase",
   "metadata": {},
   "outputs": [
    {
     "name": "stdout",
     "output_type": "stream",
     "text": [
      "Hello, world\n"
     ]
    }
   ],
   "source": [
    "print (\"Hello, world\")"
   ]
  },
  {
   "cell_type": "markdown",
   "id": "protected-interface",
   "metadata": {},
   "source": [
    "### Задание №2 \n",
    "\n",
    "\n"
   ]
  },
  {
   "cell_type": "code",
   "execution_count": 1,
   "id": "architectural-china",
   "metadata": {},
   "outputs": [],
   "source": [
    "\n",
    "import numpy\n",
    "import time\n",
    "def matrixgenerate():\n",
    "    n=int(input())\n",
    "    m=int(input())\n",
    "    matritsa = numpy.random.random_integers(-250, 1002, size=(n, m))\n",
    "    print(*matritsa)\n",
    "    return matritsa\n",
    "        \n"
   ]
  },
  {
   "cell_type": "markdown",
   "id": "departmental-breathing",
   "metadata": {},
   "source": [
    "### Задание № 3.1 Сортировка выбором"
   ]
  },
  {
   "cell_type": "code",
   "execution_count": 2,
   "id": "french-evening",
   "metadata": {},
   "outputs": [],
   "source": [
    "def vibor(matritsa):\n",
    "    matrlix1=per(matritsa)\n",
    "    for i in range(0, len(matrlix1)):\n",
    "        for j in range(i, len(matrlix1)):\n",
    "            if matrlix1[i]>matrlix1[j]:\n",
    "                matrlix1[i], matrlix1[j]=matrlix1[j], matrlix1[i]     \n",
    "    return vivod(matritsa, matrlix1)"
   ]
  },
  {
   "cell_type": "markdown",
   "id": "seventh-credit",
   "metadata": {},
   "source": [
    "### Задание № 3.2 Сортировка вставкой"
   ]
  },
  {
   "cell_type": "code",
   "execution_count": 3,
   "id": "handled-calculator",
   "metadata": {},
   "outputs": [],
   "source": [
    "def vstavka(matritsa):\n",
    "    matrlix1=per(matritsa)\n",
    "    for i in range(1, len(matrlix1)):\n",
    "        j=i-1\n",
    "        while (j>=0) and (matrlix1[j]>matrlix1[j+1]):\n",
    "            matrlix1[j], matrlix1[j+1]=matrlix1[j+1], matrlix1[j]\n",
    "            j=j-1\n",
    "    return vivod(matritsa, matrlix1) "
   ]
  },
  {
   "cell_type": "markdown",
   "id": "municipal-czech",
   "metadata": {},
   "source": [
    "### Задание № 3.3 Сортировка обменом"
   ]
  },
  {
   "cell_type": "code",
   "execution_count": 4,
   "id": "entire-content",
   "metadata": {},
   "outputs": [],
   "source": [
    "def obmen(matritsa):\n",
    "    matrline=per(matritsa)\n",
    "    l=len(matrlix1)\n",
    "    while l>1:\n",
    "        for i in range(l-1):\n",
    "            if matrlix1[i]>matrlix1[i+1]:\n",
    "                matrlix1[i], matrlix1[i+1]=matrlix1[i+1], matrlix1[i]\n",
    "            l=l-1\n",
    "    return vivod(matritsa, matrlix1)"
   ]
  },
  {
   "cell_type": "markdown",
   "id": "beneficial-aurora",
   "metadata": {},
   "source": [
    "### Задание № 3.4 Сортировка Шелла\n"
   ]
  },
  {
   "cell_type": "code",
   "execution_count": 5,
   "id": "soviet-abuse",
   "metadata": {},
   "outputs": [],
   "source": [
    "\n",
    "def shella(matritsa):\n",
    "    matrlix1=per(matritsa)\n",
    "    length=len(matrlix1)\n",
    "    l=length\n",
    "    while l>0:\n",
    "        for i in range(length-l):\n",
    "            j=i\n",
    "            while j>=0 and matrlix1[j+l]<matrlix1[j]:\n",
    "                    matrlix1[j], matrlix1[j+l]=matrlix1[j+l], matrlix1[j]\n",
    "                    j=j-l\n",
    "        l=int(l/2)\n",
    "    return vivod(matritsa, matrlix1)\n"
   ]
  },
  {
   "cell_type": "markdown",
   "id": "grand-willow",
   "metadata": {},
   "source": [
    "### Задание № 3.5 Турнирная сортировка"
   ]
  },
  {
   "cell_type": "code",
   "execution_count": 6,
   "id": "driving-detection",
   "metadata": {},
   "outputs": [],
   "source": [
    "def turnir(matritsa):\n",
    "    matrlix1=per(matritsa)\n",
    "    def tursort(matrline):\n",
    "        tree = [None] * 2 * (len(matrlix1) + len(matrlix1) % 2)\n",
    "        index = len(tree) - len(matrlix1) - len(matrlix1) % 2\n",
    "        for i, v in enumerate(matrlix1):\n",
    "            tree[index + i] = (i, v)\n",
    "        for j in range(len(matrlix1)):\n",
    "            n = len(matrlix1)\n",
    "            index = len(tree) - len(matrlix1) - len(matrlix1) % 2\n",
    "            while index > -1:\n",
    "                n = (n + 1) // 2\n",
    "                for i in range(n):\n",
    "                    i = max(index + i * 2, 1)\n",
    "                    if tree[i] != None and tree[i + 1] != None:\n",
    "                        if tree[i][1] < tree[i + 1][1]:\n",
    "                            tree[i // 2] = tree[i]\n",
    "                        else:\n",
    "                            tree[i // 2] = tree[i + 1]\n",
    "                    else:\n",
    "                        tree[i // 2] = tree[i] if tree[i] != None else tree[i + 1]\n",
    "                index -= n\n",
    "\n",
    "            index, x = tree[0]\n",
    "            matrlix1[j] = x\n",
    "            tree[len(tree) - len(matrlix1) - len(matrlix1) % 2 + index] = None\n",
    "    tursort(matrlix1)\n",
    "    return vivod(matritsa, matrlix1) "
   ]
  },
  {
   "cell_type": "markdown",
   "id": "graduate-utility",
   "metadata": {},
   "source": [
    "### Задание № 3.6 Быстрая сортировка"
   ]
  },
  {
   "cell_type": "code",
   "execution_count": 7,
   "id": "mobile-subject",
   "metadata": {},
   "outputs": [],
   "source": [
    "def bystraya(matritsa):\n",
    "    matrlix1=per(matritsa)\n",
    "    def bs(matrlix1, first, last):\n",
    "        i=first\n",
    "        j=last\n",
    "        x=matrlix1[int((first+last)/2)]\n",
    "        while i<=j:\n",
    "            while matrlix1[i]<x:\n",
    "                i+=1\n",
    "            while matrlix1[j]>x:\n",
    "                j-=1\n",
    "            if i<=j:\n",
    "                if matrlix1[i]>matrlix1[j]:\n",
    "                    matrlix1[i], matrlix1[j]=matrlix1[j], matrlix1[i]\n",
    "                i+=1\n",
    "                j-=1\n",
    "        if i<last:\n",
    "            bs(matrlix1, i, last)\n",
    "        if first<j:\n",
    "            bs(matrlix1, first, j)\n",
    "    bs(matrlix1, 0, len(matrlix1)-1)\n",
    "    return vivod(matritsa, matrlix1)"
   ]
  },
  {
   "cell_type": "markdown",
   "id": "respiratory-reviewer",
   "metadata": {},
   "source": [
    "### Задание № 3.7 Пирамидальная сортировка"
   ]
  },
  {
   "cell_type": "code",
   "execution_count": 8,
   "id": "corresponding-batch",
   "metadata": {},
   "outputs": [],
   "source": [
    "def piramida(matritsa):\n",
    "    matrlix1=per(matritsa)\n",
    "    def pir(matrlix1, k, n):\n",
    "        el = matrlix1[k]\n",
    "        while 2*k+1 < n:\n",
    "            child = 2*k+1\n",
    "            if child+1 < n and matrlix1[child] < matrlix1[child+1]:\n",
    "                child += 1\n",
    "            if el >= matrlix1[child]:\n",
    "                break\n",
    "            matrlix1[k] = matrlix1[child]\n",
    "            k = child\n",
    "        matrlix1[k] = el\n",
    "  \n",
    "    size = len(matrlix1)\n",
    "    for i in range(size//2-1,-1,-1):\n",
    "        pir(matrlix1, i, size)\n",
    "    for i in range(size-1,0,-1):\n",
    "        temp = matrlix1[i]\n",
    "        matrlix1[i] = matrlix1[0]\n",
    "        matrlix1[0] = temp\n",
    "        pir(matrlix1, 0, i)\n",
    "    return vivod(matritsa, matrlix1)"
   ]
  },
  {
   "cell_type": "markdown",
   "id": "jewish-layer",
   "metadata": {},
   "source": [
    "### Необходимые функции "
   ]
  },
  {
   "cell_type": "code",
   "execution_count": 9,
   "id": "covered-nelson",
   "metadata": {},
   "outputs": [],
   "source": [
    "def matrixgenerate():\n",
    "    n=int(input())\n",
    "    m=int(input())\n",
    "    matritsa = numpy.random.random_integers(-250, 1002, size=(n, m))\n",
    "    print(*matritsa)\n",
    "    return matritsa\n",
    "\n",
    "def per(matritsa):\n",
    "    n=len(matritsa)\n",
    "    m=len(matritsa[0])\n",
    "    matrlix1=[0]*(n*m)\n",
    "    x=int(0)\n",
    "    for i in range(0, n):\n",
    "        for j in range(0, m):\n",
    "            matrlix1[x]=matritsa[i][j]\n",
    "            x=x+1\n",
    "    return matrlix1\n",
    "\n",
    "def vivod(matritsa, matrlix1):\n",
    "    n=len(matritsa)\n",
    "    m=len(matritsa[0])\n",
    "    x=int(0)\n",
    "    matrix=[[0] * m for i in range(n)]\n",
    "    for i in range(0, n):\n",
    "        for j in range(0, m):\n",
    "            matrix[i][j]=matrlix1[x]\n",
    "            x=x+1\n",
    "    return matrix"
   ]
  },
  {
   "cell_type": "markdown",
   "id": "agreed-direction",
   "metadata": {},
   "source": [
    "### Выполнение\n"
   ]
  },
  {
   "cell_type": "code",
   "execution_count": 10,
   "id": "weird-affect",
   "metadata": {},
   "outputs": [
    {
     "name": "stdout",
     "output_type": "stream",
     "text": [
      "Исходный массив\n",
      "5\n",
      "6\n",
      "[ 501  254 -189  441  -21   14] [606 309 376 777 -87 326] [ 559  237 -142  482  131  623] [799  91 810 772 369 155] [ 811 -144  461  365  288 -131]\n",
      "\n",
      "Время работы стандартной сортировки 0.0001542000000007704 \n",
      "Результат сортировки\n",
      " [-189, -144, -142, -131, -87, -21] [14, 91, 131, 155, 237, 254] [288, 309, 326, 365, 369, 376] [441, 461, 482, 501, 559, 606] [623, 772, 777, 799, 810, 811]\n",
      "\n",
      "Время работы сортировки выбором 0.00010920000000069763 \n",
      "Результат сортировки\n",
      " [-189, -144, -142, -131, -87, -21] [14, 91, 131, 155, 237, 254] [288, 309, 326, 365, 369, 376] [441, 461, 482, 501, 559, 606] [623, 772, 777, 799, 810, 811]\n",
      "\n",
      "Время работы сортировки вставкой 0.00010110000000018715 \n",
      "Результат сортировки\n",
      " [-189, -144, -142, -131, -87, -21] [14, 91, 131, 155, 237, 254] [288, 309, 326, 365, 369, 376] [441, 461, 482, 501, 559, 606] [623, 772, 777, 799, 810, 811]\n",
      "\n",
      "Время работы сортировки обменом 6.630000000029668e-05 \n",
      "Результат сортировки\n",
      " [-189, 254, -21, 14, 441, 309] [376, 501, -87, 326, 559, 237] [-142, 482, 131, 606, 623, 91] [777, 772, 369, 155, 799, -144] [461, 365, 288, -131, 810, 811]\n",
      "\n",
      "Время работы сортировки Шелла 8.260000000070988e-05 \n",
      "Результат сортировки\n",
      " [-189, -144, -142, -131, -87, -21] [14, 91, 131, 155, 237, 254] [288, 309, 326, 365, 369, 376] [441, 461, 482, 501, 559, 606] [623, 772, 777, 799, 810, 811]\n",
      "\n",
      "Время работы турнирной сортировки 0.0010027000000008002 \n",
      "Результат сортировки\n",
      " [-189, -144, -142, -131, -87, -21] [14, 91, 131, 155, 237, 254] [288, 309, 326, 365, 369, 376] [441, 461, 482, 501, 559, 606] [623, 772, 777, 799, 810, 811]\n",
      "\n",
      "Время работы быстрой сортировки 0.0007720000000013272 \n",
      "Результат сортировки\n",
      " [-189, -144, -142, -131, -87, -21] [14, 91, 131, 155, 237, 254] [288, 309, 326, 365, 369, 376] [441, 461, 482, 501, 559, 606] [623, 772, 777, 799, 810, 811]\n",
      "\n",
      "Время работы пирамидальной сортировки 0.00019439999999981694 \n",
      "Результат сортировки\n",
      " [-189, -144, -142, -131, -87, -21] [14, 91, 131, 155, 237, 254] [288, 309, 326, 365, 369, 376] [441, 461, 482, 501, 559, 606] [623, 772, 777, 799, 810, 811]\n"
     ]
    },
    {
     "name": "stderr",
     "output_type": "stream",
     "text": [
      "<ipython-input-9-7cfedc5aeb5f>:4: DeprecationWarning: This function is deprecated. Please call randint(-250, 1002 + 1) instead\n",
      "  matritsa = numpy.random.random_integers(-250, 1002, size=(n, m))\n"
     ]
    }
   ],
   "source": [
    "print (\"Исходный массив\")\n",
    "matritsa = matrixgenerate()\n",
    "\n",
    "\n",
    "#Стандартная сортировка\n",
    "timerStart = time.perf_counter()\n",
    "matrlix1=per(matritsa)\n",
    "sorted(matrlix1)\n",
    "matrixstandart=vivod(matritsa, matrlix1)\n",
    "timerEnd = time.perf_counter()\n",
    "timer1 = timerEnd - timerStart\n",
    "\n",
    "#Сортировка выбором\n",
    "timerStart = time.perf_counter()\n",
    "matvib=vibor(matritsa)\n",
    "timerEnd = time.perf_counter()\n",
    "timer2 = timerEnd - timerStart\n",
    "\n",
    "#Сортировка вставками\n",
    "timerStart = time.perf_counter()\n",
    "matvtsav=vstavka(matritsa)\n",
    "timerEnd = time.perf_counter()\n",
    "timer3 = timerEnd - timerStart\n",
    "\n",
    "#Сортировка обменом\n",
    "timerStart = time.perf_counter()\n",
    "matobm=obmen(matritsa)\n",
    "timerEnd = time.perf_counter()\n",
    "timer4 = timerEnd - timerStart\n",
    "\n",
    "#Сортировка Шелла\n",
    "timerStart = time.perf_counter()\n",
    "matshell=shella(matritsa)\n",
    "timerEnd = time.perf_counter()\n",
    "timer5 = timerEnd - timerStart\n",
    "\n",
    "#Турнирная сортировка\n",
    "timerStart = time.perf_counter()\n",
    "mattur=turnir(matritsa)\n",
    "timerEnd = time.perf_counter()\n",
    "timer6 = timerEnd - timerStart\n",
    "\n",
    "#Быстрая сортировка\n",
    "timerStart = time.perf_counter()\n",
    "matbystr=bystraya(matritsa)\n",
    "timerEnd = time.perf_counter()\n",
    "timer7 = timerEnd - timerStart\n",
    "\n",
    "#Пирамидальная сортировка\n",
    "timerStart = time.perf_counter()\n",
    "matpir=piramida(matritsa)\n",
    "timerEnd = time.perf_counter()\n",
    "timer8 = timerEnd - timerStart\n",
    "\n",
    "\n",
    "matvib = vibor(matritsa)\n",
    "matvstav = vstavka (matritsa)\n",
    "matobm = obmen (matritsa)\n",
    "matshell = shella (matritsa)\n",
    "mattur = turnir (matritsa)\n",
    "matbystr = bystraya (matritsa)\n",
    "matpir = piramida (matritsa)\n",
    "\n",
    "print(\"\\nВремя работы стандартной сортировки\", timer1,\"\\nРезультат сортировки\\n\", *matvib)\n",
    "print(\"\\nВремя работы сортировки выбором\", timer2,\"\\nРезультат сортировки\\n\", *matvib)\n",
    "print(\"\\nВремя работы сортировки вставкой\", timer3,\"\\nРезультат сортировки\\n\", *matvstav)\n",
    "print(\"\\nВремя работы сортировки обменом\", timer4,\"\\nРезультат сортировки\\n\", *matobm)\n",
    "print(\"\\nВремя работы сортировки Шелла\", timer5,\"\\nРезультат сортировки\\n\", *matshell)\n",
    "print(\"\\nВремя работы турнирной сортировки\", timer6,\"\\nРезультат сортировки\\n\", *mattur)\n",
    "print(\"\\nВремя работы быстрой сортировки\", timer7,\"\\nРезультат сортировки\\n\", *matbystr)\n",
    "print(\"\\nВремя работы пирамидальной сортировки\", timer8,\"\\nРезультат сортировки\\n\", *matpir)\n"
   ]
  },
  {
   "cell_type": "code",
   "execution_count": null,
   "id": "further-litigation",
   "metadata": {},
   "outputs": [],
   "source": []
  },
  {
   "cell_type": "code",
   "execution_count": null,
   "id": "eastern-manufacturer",
   "metadata": {},
   "outputs": [],
   "source": []
  }
 ],
 "metadata": {
  "kernelspec": {
   "display_name": "Python 3",
   "language": "python",
   "name": "python3"
  },
  "language_info": {
   "codemirror_mode": {
    "name": "ipython",
    "version": 3
   },
   "file_extension": ".py",
   "mimetype": "text/x-python",
   "name": "python",
   "nbconvert_exporter": "python",
   "pygments_lexer": "ipython3",
   "version": "3.9.1"
  }
 },
 "nbformat": 4,
 "nbformat_minor": 5
}
