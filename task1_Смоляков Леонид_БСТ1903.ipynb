{
 "cells": [
  {
   "cell_type": "markdown",
   "id": "electrical-expression",
   "metadata": {},
   "source": [
    "## Задача 1\n"
   ]
  },
  {
   "cell_type": "code",
   "execution_count": null,
   "id": "geological-dealing",
   "metadata": {},
   "outputs": [],
   "source": [
    "import numpy"
   ]
  },
  {
   "cell_type": "code",
   "execution_count": null,
   "id": "naval-shift",
   "metadata": {},
   "outputs": [],
   "source": [
    "    n=int(input())\n",
    "    massiv = numpy.random.random_integers(0, 20, size=(n))\n",
    "    massiv=sorted(massiv, reverse=True)\n",
    "    for i, j in enumerate(massiv):\n",
    "        print(\"massiv[\", i, \"]=\", j)\n",
    "    return massiv"
   ]
  },
  {
   "cell_type": "code",
   "execution_count": null,
   "id": "flying-influence",
   "metadata": {},
   "outputs": [],
   "source": [
    "def perimetr(massiv):\n",
    "    P=0\n",
    "    \n",
    "    for i in range(len(massiv)-2):\n",
    "        if massiv[i]<massiv[i+1]+massiv[i+2]:\n",
    "            return massiv[i]+massiv[i+1]+massiv[i+2]"
   ]
  },
  {
   "cell_type": "code",
   "execution_count": null,
   "id": "helpful-stress",
   "metadata": {},
   "outputs": [],
   "source": [
    "massiv=matrixgenerate()\n",
    "P=perimetr(massiv)\n",
    "print(P)"
   ]
  },
  {
   "cell_type": "markdown",
   "id": "interracial-dress",
   "metadata": {},
   "source": [
    "## Задача 2 "
   ]
  },
  {
   "cell_type": "code",
   "execution_count": null,
   "id": "boring-bottle",
   "metadata": {},
   "outputs": [],
   "source": [
    "    one=str(a)+str(b)\n",
    "    two=str(b)+str(a)\n",
    "    if int(one)>int(two):\n",
    "        return True\n",
    "    else:\n",
    "        return False\n",
    "    \n",
    "def shell(massline):\n",
    "    length=len(massline)\n",
    "    l=length\n",
    "    while l>0:\n",
    "        for i in range(length-l):\n",
    "            j=i\n",
    "            while j>=0 and check(massline[j+l], massline[j]):\n",
    "                massline[j], massline[j+l]=massline[j+l], massline[j]\n",
    "                j=j-l\n",
    "        l=int(l/2)\n",
    "    strr=\"\"\n",
    "    for i in range(len(massline)):\n",
    "        strr=strr+\" \"+str(massline[i])\n",
    "    return strr"
   ]
  },
  {
   "cell_type": "markdown",
   "id": "frozen-sally",
   "metadata": {},
   "source": [
    "## Задача 3"
   ]
  },
  {
   "cell_type": "code",
   "execution_count": null,
   "id": "arabic-compensation",
   "metadata": {},
   "outputs": [],
   "source": [
    "massiv = numpy.random.random_integers(0, 20, size=(m, n))\n",
    "print(massiv)\n",
    "for i in range(0,m):\n",
    "    for j in range(0,n):\n",
    "        l=j\n",
    "        k=i\n",
    "        while k<m and l<n:\n",
    "            if massiv[i][j]>massiv[k][l]:\n",
    "                print (\"заменяет \" , massiv[k][l] ,\" на \" , massiv[i][j] )\n",
    "                massiv[i][j], massiv[k][l]=massiv[k][l], massiv[i][j]\n",
    "            k=k+1\n",
    "            l=l+1\n",
    "print(\"\\n\")\n",
    "print(massiv)"
   ]
  },
  {
   "cell_type": "code",
   "execution_count": null,
   "id": "original-silicon",
   "metadata": {},
   "outputs": [],
   "source": []
  }
 ],
 "metadata": {
  "kernelspec": {
   "display_name": "Python 3",
   "language": "python",
   "name": "python3"
  },
  "language_info": {
   "codemirror_mode": {
    "name": "ipython",
    "version": 3
   },
   "file_extension": ".py",
   "mimetype": "text/x-python",
   "name": "python",
   "nbconvert_exporter": "python",
   "pygments_lexer": "ipython3",
   "version": "3.9.1"
  }
 },
 "nbformat": 4,
 "nbformat_minor": 5
}
